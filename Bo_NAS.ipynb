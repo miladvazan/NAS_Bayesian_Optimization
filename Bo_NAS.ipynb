{
  "nbformat": 4,
  "nbformat_minor": 0,
  "metadata": {
    "colab": {
      "provenance": [],
      "gpuType": "T4"
    },
    "kernelspec": {
      "name": "python3",
      "display_name": "Python 3"
    },
    "language_info": {
      "name": "python"
    },
    "accelerator": "GPU"
  },
  "cells": [
    {
      "cell_type": "code",
      "execution_count": 1,
      "metadata": {
        "colab": {
          "base_uri": "https://localhost:8080/"
        },
        "id": "cunojdSqkNOA",
        "outputId": "398cf53d-e3d0-44a7-fc3e-bef04f29a878"
      },
      "outputs": [
        {
          "output_type": "stream",
          "name": "stdout",
          "text": [
            "Collecting optuna\n",
            "  Downloading optuna-3.3.0-py3-none-any.whl (404 kB)\n",
            "\u001b[2K     \u001b[90m━━━━━━━━━━━━━━━━━━━━━━━━━━━━━━━━━━━━━━━\u001b[0m \u001b[32m404.2/404.2 kB\u001b[0m \u001b[31m7.3 MB/s\u001b[0m eta \u001b[36m0:00:00\u001b[0m\n",
            "\u001b[?25hCollecting alembic>=1.5.0 (from optuna)\n",
            "  Downloading alembic-1.12.0-py3-none-any.whl (226 kB)\n",
            "\u001b[2K     \u001b[90m━━━━━━━━━━━━━━━━━━━━━━━━━━━━━━━━━━━━━━\u001b[0m \u001b[32m226.0/226.0 kB\u001b[0m \u001b[31m27.6 MB/s\u001b[0m eta \u001b[36m0:00:00\u001b[0m\n",
            "\u001b[?25hCollecting cmaes>=0.10.0 (from optuna)\n",
            "  Downloading cmaes-0.10.0-py3-none-any.whl (29 kB)\n",
            "Collecting colorlog (from optuna)\n",
            "  Downloading colorlog-6.7.0-py2.py3-none-any.whl (11 kB)\n",
            "Requirement already satisfied: numpy in /usr/local/lib/python3.10/dist-packages (from optuna) (1.23.5)\n",
            "Requirement already satisfied: packaging>=20.0 in /usr/local/lib/python3.10/dist-packages (from optuna) (23.1)\n",
            "Requirement already satisfied: sqlalchemy>=1.3.0 in /usr/local/lib/python3.10/dist-packages (from optuna) (2.0.20)\n",
            "Requirement already satisfied: tqdm in /usr/local/lib/python3.10/dist-packages (from optuna) (4.66.1)\n",
            "Requirement already satisfied: PyYAML in /usr/local/lib/python3.10/dist-packages (from optuna) (6.0.1)\n",
            "Collecting Mako (from alembic>=1.5.0->optuna)\n",
            "  Downloading Mako-1.2.4-py3-none-any.whl (78 kB)\n",
            "\u001b[2K     \u001b[90m━━━━━━━━━━━━━━━━━━━━━━━━━━━━━━━━━━━━━━━━\u001b[0m \u001b[32m78.7/78.7 kB\u001b[0m \u001b[31m8.8 MB/s\u001b[0m eta \u001b[36m0:00:00\u001b[0m\n",
            "\u001b[?25hRequirement already satisfied: typing-extensions>=4 in /usr/local/lib/python3.10/dist-packages (from alembic>=1.5.0->optuna) (4.7.1)\n",
            "Requirement already satisfied: greenlet!=0.4.17 in /usr/local/lib/python3.10/dist-packages (from sqlalchemy>=1.3.0->optuna) (2.0.2)\n",
            "Requirement already satisfied: MarkupSafe>=0.9.2 in /usr/local/lib/python3.10/dist-packages (from Mako->alembic>=1.5.0->optuna) (2.1.3)\n",
            "Installing collected packages: Mako, colorlog, cmaes, alembic, optuna\n",
            "Successfully installed Mako-1.2.4 alembic-1.12.0 cmaes-0.10.0 colorlog-6.7.0 optuna-3.3.0\n"
          ]
        }
      ],
      "source": [
        "!pip install optuna"
      ]
    },
    {
      "cell_type": "code",
      "source": [
        "import optuna\n",
        "import tensorflow as tf\n",
        "from tensorflow import keras\n",
        "from tensorflow.keras.datasets import cifar10\n",
        "from tensorflow.keras.models import Sequential\n",
        "from tensorflow.keras.layers import Conv2D, MaxPooling2D, Flatten, Dense\n",
        "from tensorflow.keras.optimizers import Adam"
      ],
      "metadata": {
        "id": "DX9HqmNLkPw0"
      },
      "execution_count": 2,
      "outputs": []
    },
    {
      "cell_type": "markdown",
      "source": [
        "# Load CIFAR-10 dataset"
      ],
      "metadata": {
        "id": "41FmnIEXkogA"
      }
    },
    {
      "cell_type": "code",
      "source": [
        "(x_train, y_train), (x_test, y_test) = cifar10.load_data()\n",
        "input_shape = x_train.shape[1:]"
      ],
      "metadata": {
        "colab": {
          "base_uri": "https://localhost:8080/"
        },
        "id": "L5jOQmMskUTX",
        "outputId": "3966b608-8351-403c-a3df-b1c174b71a93"
      },
      "execution_count": 3,
      "outputs": [
        {
          "output_type": "stream",
          "name": "stdout",
          "text": [
            "Downloading data from https://www.cs.toronto.edu/~kriz/cifar-10-python.tar.gz\n",
            "170498071/170498071 [==============================] - 2s 0us/step\n"
          ]
        }
      ]
    },
    {
      "cell_type": "markdown",
      "source": [
        "# Define the search space for NAS using Optuna"
      ],
      "metadata": {
        "id": "p80hRUeKkqeC"
      }
    },
    {
      "cell_type": "code",
      "source": [
        "def create_model(trial):\n",
        "    model = Sequential()\n",
        "\n",
        "    # Define the hyperparameters to optimize\n",
        "    num_conv_layers = trial.suggest_int('num_conv_layers', 1, 5)\n",
        "    num_filters = trial.suggest_categorical('num_filters', [Numf for Numf in range(1, 10)])\n",
        "    num_dense_units = trial.suggest_categorical('num_dense_units', [Numd for Numd in range(256, 1025)])\n",
        "\n",
        "    # Add convolutional layers\n",
        "    for i in range(num_conv_layers):\n",
        "        model.add(Conv2D(num_filters, (3, 3), activation='relu', padding='same', input_shape=input_shape))\n",
        "        model.add(MaxPooling2D(pool_size=(2, 2)))\n",
        "        model.add(tf.keras.layers.Dropout(0.25))\n",
        "        #num_filters *= 2\n",
        "\n",
        "    model.add(Flatten())\n",
        "\n",
        "    # Add dense layers\n",
        "    model.add(Dense(num_dense_units, activation='relu'))\n",
        "    model.add(tf.keras.layers.Dropout(0.5))\n",
        "\n",
        "    # Output layer\n",
        "    model.add(Dense(10, activation='softmax'))\n",
        "\n",
        "    return model"
      ],
      "metadata": {
        "id": "n0LdOcIekX5U"
      },
      "execution_count": 7,
      "outputs": []
    },
    {
      "cell_type": "markdown",
      "source": [
        "# Define the objective function for Optuna optimization"
      ],
      "metadata": {
        "id": "cy_aRtHrkvFt"
      }
    },
    {
      "cell_type": "code",
      "source": [
        "def objective(trial):\n",
        "    model = create_model(trial)\n",
        "\n",
        "    # Compile the model\n",
        "    model.compile(loss='sparse_categorical_crossentropy',\n",
        "                  optimizer='adam',\n",
        "                  metrics=['accuracy'])\n",
        "\n",
        "    # Train the model\n",
        "    model.fit(x_train, y_train, batch_size=128, epochs=10, verbose=0)\n",
        "\n",
        "    # Evaluate the model on the validation set\n",
        "    _, accuracy = model.evaluate(x_test, y_test, verbose=0)\n",
        "\n",
        "    return accuracy"
      ],
      "metadata": {
        "id": "IIpP_JKJkZL0"
      },
      "execution_count": 9,
      "outputs": []
    },
    {
      "cell_type": "markdown",
      "source": [
        "# Create an Optuna study and optimize the objective function"
      ],
      "metadata": {
        "id": "iabeV2aAkxL8"
      }
    },
    {
      "cell_type": "code",
      "source": [
        "study = optuna.create_study(direction='maximize')\n",
        "study.optimize(objective, n_trials=10)"
      ],
      "metadata": {
        "colab": {
          "base_uri": "https://localhost:8080/"
        },
        "id": "pFnYS5s2kjOm",
        "outputId": "fe0ac54e-55b6-4a1b-dad1-64ae186f1dbd"
      },
      "execution_count": 10,
      "outputs": [
        {
          "output_type": "stream",
          "name": "stderr",
          "text": [
            "[I 2023-09-07 08:36:47,280] A new study created in memory with name: no-name-275f2ca0-70aa-4502-b806-4d1d996b9cf6\n",
            "[I 2023-09-07 08:37:35,219] Trial 0 finished with value: 0.3919999897480011 and parameters: {'num_conv_layers': 2, 'num_filters': 6, 'num_dense_units': 556}. Best is trial 0 with value: 0.3919999897480011.\n",
            "[I 2023-09-07 08:37:58,474] Trial 1 finished with value: 0.4372999966144562 and parameters: {'num_conv_layers': 2, 'num_filters': 6, 'num_dense_units': 491}. Best is trial 1 with value: 0.4372999966144562.\n",
            "[I 2023-09-07 08:38:20,534] Trial 2 finished with value: 0.25609999895095825 and parameters: {'num_conv_layers': 4, 'num_filters': 9, 'num_dense_units': 329}. Best is trial 1 with value: 0.4372999966144562.\n",
            "[I 2023-09-07 08:38:34,792] Trial 3 finished with value: 0.18960000574588776 and parameters: {'num_conv_layers': 1, 'num_filters': 6, 'num_dense_units': 265}. Best is trial 1 with value: 0.4372999966144562.\n",
            "[I 2023-09-07 08:38:52,019] Trial 4 finished with value: 0.4596000015735626 and parameters: {'num_conv_layers': 2, 'num_filters': 4, 'num_dense_units': 971}. Best is trial 4 with value: 0.4596000015735626.\n",
            "[I 2023-09-07 08:39:15,755] Trial 5 finished with value: 0.4546999931335449 and parameters: {'num_conv_layers': 2, 'num_filters': 7, 'num_dense_units': 654}. Best is trial 4 with value: 0.4596000015735626.\n",
            "[I 2023-09-07 08:39:40,082] Trial 6 finished with value: 0.19030000269412994 and parameters: {'num_conv_layers': 4, 'num_filters': 3, 'num_dense_units': 589}. Best is trial 4 with value: 0.4596000015735626.\n",
            "[I 2023-09-07 08:40:03,389] Trial 7 finished with value: 0.21719999611377716 and parameters: {'num_conv_layers': 1, 'num_filters': 4, 'num_dense_units': 874}. Best is trial 4 with value: 0.4596000015735626.\n",
            "[I 2023-09-07 08:40:26,379] Trial 8 finished with value: 0.35179999470710754 and parameters: {'num_conv_layers': 1, 'num_filters': 5, 'num_dense_units': 328}. Best is trial 4 with value: 0.4596000015735626.\n",
            "[I 2023-09-07 08:40:43,747] Trial 9 finished with value: 0.35280001163482666 and parameters: {'num_conv_layers': 2, 'num_filters': 4, 'num_dense_units': 330}. Best is trial 4 with value: 0.4596000015735626.\n"
          ]
        }
      ]
    },
    {
      "cell_type": "markdown",
      "source": [
        "# Print the best hyperparameters and accuracy"
      ],
      "metadata": {
        "id": "D_lHg6Apkzu5"
      }
    },
    {
      "cell_type": "code",
      "source": [
        "best_params = study.best_params\n",
        "best_accuracy = study.best_value\n",
        "print(\"Best Hyperparameters:\", best_params)\n",
        "print(\"Best Accuracy:\", best_accuracy)"
      ],
      "metadata": {
        "colab": {
          "base_uri": "https://localhost:8080/"
        },
        "id": "2vN33jeYkl0z",
        "outputId": "f9e8769b-c40e-495d-a143-78f90d3f1d31"
      },
      "execution_count": 11,
      "outputs": [
        {
          "output_type": "stream",
          "name": "stdout",
          "text": [
            "Best Hyperparameters: {'num_conv_layers': 2, 'num_filters': 4, 'num_dense_units': 971}\n",
            "Best Accuracy: 0.4596000015735626\n"
          ]
        }
      ]
    }
  ]
}